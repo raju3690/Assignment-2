{
  "nbformat": 4,
  "nbformat_minor": 0,
  "metadata": {
    "kernelspec": {
      "display_name": "Python 3",
      "language": "python",
      "name": "python3"
    },
    "language_info": {
      "codemirror_mode": {
        "name": "ipython",
        "version": 3
      },
      "file_extension": ".py",
      "mimetype": "text/x-python",
      "name": "python",
      "nbconvert_exporter": "python",
      "pygments_lexer": "ipython3",
      "version": "3.6.9"
    },
    "colab": {
      "name": "Numpy_Assignment.ipynb",
      "provenance": [],
      "collapsed_sections": [],
      "include_colab_link": true
    }
  },
  "cells": [
    {
      "cell_type": "markdown",
      "metadata": {
        "id": "view-in-github",
        "colab_type": "text"
      },
      "source": [
        "<a href=\"https://colab.research.google.com/github/Pratheekongit/DSC-Assignments/blob/master/Numpy_Assignment.ipynb\" target=\"_parent\"><img src=\"https://colab.research.google.com/assets/colab-badge.svg\" alt=\"Open In Colab\"/></a>"
      ]
    },
    {
      "cell_type": "markdown",
      "metadata": {
        "id": "VOC4ZaV6W_N7"
      },
      "source": [
        "# Numpy assignment\n",
        "- Different tasks will be detailed by comments or text.\n",
        "- For further reference and resources, it's advised to check out the NumPy documentation."
      ]
    },
    {
      "cell_type": "code",
      "metadata": {
        "id": "lv8-FJK6W_OB"
      },
      "source": [
        "# Import NumPy as its abbreviation 'np'\n",
        "import numpy as np"
      ],
      "execution_count": null,
      "outputs": []
    },
    {
      "cell_type": "code",
      "metadata": {
        "id": "CE0g3AnOW_OO",
        "outputId": "b6295405-19fa-4162-fac5-4d837ed58d51",
        "colab": {
          "base_uri": "https://localhost:8080/",
          "height": 119
        }
      },
      "source": [
        "# Create a 1-dimensional NumPy array using np.array()\n",
        "a1 = np.array([1,2,3])\n",
        "print('1-D array:')\n",
        "print(a1)\n",
        "# Create a 2-dimensional NumPy array using np.array()\n",
        "a2 = np.array([[4,5,6],[7,8,9]])\n",
        "print('\\n2-D array:')\n",
        "print(a2)"
      ],
      "execution_count": null,
      "outputs": [
        {
          "output_type": "stream",
          "text": [
            "1-D array:\n",
            "[1 2 3]\n",
            "\n",
            "2-D array:\n",
            "[[4 5 6]\n",
            " [7 8 9]]\n"
          ],
          "name": "stdout"
        }
      ]
    },
    {
      "cell_type": "code",
      "metadata": {
        "id": "oz5RWxYRW_OY",
        "outputId": "56219490-9b04-47f0-ccea-9900fc54d23a",
        "colab": {
          "base_uri": "https://localhost:8080/",
          "height": 85
        }
      },
      "source": [
        "# Attributes of 1-dimensional array (shape, number of dimensions, data type, size and type)\n",
        "print(\"shape:\",a1.shape)\n",
        "print(\"no. of dimensions:\",a1.ndim)\n",
        "print(\"data type:\",a1.dtype)\n",
        "print(\"size:\",a1.itemsize)\n",
        "#print"
      ],
      "execution_count": null,
      "outputs": [
        {
          "output_type": "stream",
          "text": [
            "shape: (3,)\n",
            "no. of dimensions: 1\n",
            "data type: int64\n",
            "size: 8\n"
          ],
          "name": "stdout"
        }
      ]
    },
    {
      "cell_type": "code",
      "metadata": {
        "id": "vNErNJVHW_Oi",
        "outputId": "3470047f-a1dd-4769-8cd2-db73416a4eb8",
        "colab": {
          "base_uri": "https://localhost:8080/",
          "height": 85
        }
      },
      "source": [
        "# Attributes of 2-dimensional array\n",
        "print(\"shape:\",a2.shape)\n",
        "print(\"no. of dimensions:\",a2.ndim)\n",
        "print(\"data type:\",a2.dtype)\n",
        "print(\"size:\",a2.itemsize)"
      ],
      "execution_count": null,
      "outputs": [
        {
          "output_type": "stream",
          "text": [
            "shape: (2, 3)\n",
            "no. of dimensions: 2\n",
            "data type: int64\n",
            "size: 8\n"
          ],
          "name": "stdout"
        }
      ]
    },
    {
      "cell_type": "code",
      "metadata": {
        "id": "YvT2Ma1KW_Os",
        "outputId": "87ecd6e9-c17e-4606-83b1-05d3bf529d8a",
        "colab": {
          "base_uri": "https://localhost:8080/",
          "height": 102
        }
      },
      "source": [
        "# Create an array of shape (5, 5) with only ones\n",
        "np.ones([5,5],dtype=int)"
      ],
      "execution_count": null,
      "outputs": [
        {
          "output_type": "execute_result",
          "data": {
            "text/plain": [
              "array([[1, 1, 1, 1, 1],\n",
              "       [1, 1, 1, 1, 1],\n",
              "       [1, 1, 1, 1, 1],\n",
              "       [1, 1, 1, 1, 1],\n",
              "       [1, 1, 1, 1, 1]])"
            ]
          },
          "metadata": {
            "tags": []
          },
          "execution_count": 92
        }
      ]
    },
    {
      "cell_type": "code",
      "metadata": {
        "id": "gKPKLPeLW_O2",
        "outputId": "2c31cc95-3c54-43ef-cd3d-16fb0e8c0351",
        "colab": {
          "base_uri": "https://localhost:8080/",
          "height": 204
        }
      },
      "source": [
        "# Create an array of shape (3, 3, 5) with only zeros\n",
        "np.zeros([3,3,5],dtype=int)"
      ],
      "execution_count": null,
      "outputs": [
        {
          "output_type": "execute_result",
          "data": {
            "text/plain": [
              "array([[[0, 0, 0, 0, 0],\n",
              "        [0, 0, 0, 0, 0],\n",
              "        [0, 0, 0, 0, 0]],\n",
              "\n",
              "       [[0, 0, 0, 0, 0],\n",
              "        [0, 0, 0, 0, 0],\n",
              "        [0, 0, 0, 0, 0]],\n",
              "\n",
              "       [[0, 0, 0, 0, 0],\n",
              "        [0, 0, 0, 0, 0],\n",
              "        [0, 0, 0, 0, 0]]])"
            ]
          },
          "metadata": {
            "tags": []
          },
          "execution_count": 93
        }
      ]
    },
    {
      "cell_type": "code",
      "metadata": {
        "id": "73SN93jpW_O_",
        "outputId": "0731b9b7-bde1-44f2-8fb3-498e2d6aeeb6",
        "colab": {
          "base_uri": "https://localhost:8080/",
          "height": 136
        }
      },
      "source": [
        "# Create a random array with numbers between 0 and 10 of size (7, 2)\n",
        "np.random.randint(10,size=(7,2))"
      ],
      "execution_count": null,
      "outputs": [
        {
          "output_type": "execute_result",
          "data": {
            "text/plain": [
              "array([[1, 4],\n",
              "       [7, 9],\n",
              "       [8, 8],\n",
              "       [0, 8],\n",
              "       [6, 8],\n",
              "       [7, 0],\n",
              "       [7, 7]])"
            ]
          },
          "metadata": {
            "tags": []
          },
          "execution_count": 94
        }
      ]
    },
    {
      "cell_type": "code",
      "metadata": {
        "id": "jwrFQ-VcW_PL",
        "outputId": "fa8875ab-b1f9-4923-9817-ebcba0ac837a",
        "colab": {
          "base_uri": "https://localhost:8080/",
          "height": 68
        }
      },
      "source": [
        "# Create a random array of floats between 0 & 1 of shape (3, 5)\n",
        "np.random.rand(3,5)"
      ],
      "execution_count": null,
      "outputs": [
        {
          "output_type": "execute_result",
          "data": {
            "text/plain": [
              "array([[0.01407982, 0.1988424 , 0.71134195, 0.79017554, 0.60595997],\n",
              "       [0.92630088, 0.65107703, 0.91495968, 0.85003858, 0.44945067],\n",
              "       [0.09541012, 0.37081825, 0.66884125, 0.66592236, 0.59129779]])"
            ]
          },
          "metadata": {
            "tags": []
          },
          "execution_count": 95
        }
      ]
    },
    {
      "cell_type": "code",
      "metadata": {
        "id": "IMMAVXGPW_PV",
        "outputId": "3866f30b-357b-46c5-a98c-fe20c7c39084",
        "colab": {
          "base_uri": "https://localhost:8080/",
          "height": 85
        }
      },
      "source": [
        "# Create an array of normally distributed random numbers\n",
        "x = np.random.normal(size=[4,5])\n",
        "x"
      ],
      "execution_count": null,
      "outputs": [
        {
          "output_type": "execute_result",
          "data": {
            "text/plain": [
              "array([[ 0.45788508, -1.68428738,  0.32684522, -0.08111895,  0.46779475],\n",
              "       [ 0.73612235, -0.77970188, -0.84389636, -0.15053386, -0.96555767],\n",
              "       [ 0.15048908, -0.11342125,  2.63352822, -1.02509089, -0.78204783],\n",
              "       [ 0.42394307,  0.8727051 ,  2.28722598,  1.6229205 ,  0.82373308]])"
            ]
          },
          "metadata": {
            "tags": []
          },
          "execution_count": 96
        }
      ]
    },
    {
      "cell_type": "code",
      "metadata": {
        "id": "xJSgEreOW_Pe",
        "outputId": "f1643504-22fe-4602-8237-e0081f661130",
        "colab": {
          "base_uri": "https://localhost:8080/",
          "height": 85
        }
      },
      "source": [
        "# Set the random seed to 42\n",
        "np.random.seed(42)\n",
        "# Create a random array of numbers between 0 & 10 of size (4, 6)\n",
        "np.random.randint(10,size=[4,6])"
      ],
      "execution_count": null,
      "outputs": [
        {
          "output_type": "execute_result",
          "data": {
            "text/plain": [
              "array([[6, 3, 7, 4, 6, 9],\n",
              "       [2, 6, 7, 4, 3, 7],\n",
              "       [7, 2, 5, 4, 1, 7],\n",
              "       [5, 1, 4, 0, 9, 5]])"
            ]
          },
          "metadata": {
            "tags": []
          },
          "execution_count": 97
        }
      ]
    },
    {
      "cell_type": "code",
      "metadata": {
        "id": "CNbKUn4_W_Pn",
        "outputId": "b3e1ca94-8b0d-4490-df21-5de41961f2d5",
        "colab": {
          "base_uri": "https://localhost:8080/",
          "height": 85
        }
      },
      "source": [
        "# Copy the code from the cell above and run it again\n",
        "arr=np.random.randint(10,size=[4,6])\n",
        "arr"
      ],
      "execution_count": null,
      "outputs": [
        {
          "output_type": "execute_result",
          "data": {
            "text/plain": [
              "array([[8, 0, 9, 2, 6, 3],\n",
              "       [8, 2, 4, 2, 6, 4],\n",
              "       [8, 6, 1, 3, 8, 1],\n",
              "       [9, 8, 9, 4, 1, 3]])"
            ]
          },
          "metadata": {
            "tags": []
          },
          "execution_count": 98
        }
      ]
    },
    {
      "cell_type": "code",
      "metadata": {
        "id": "Px0mc1r-W_Pw",
        "outputId": "8dad57b5-2573-47ff-9380-b83dfad156cf",
        "colab": {
          "base_uri": "https://localhost:8080/",
          "height": 34
        }
      },
      "source": [
        "# Find the 0'th index of the latest array you created\n",
        "arr[0][0]"
      ],
      "execution_count": null,
      "outputs": [
        {
          "output_type": "execute_result",
          "data": {
            "text/plain": [
              "8"
            ]
          },
          "metadata": {
            "tags": []
          },
          "execution_count": 99
        }
      ]
    },
    {
      "cell_type": "code",
      "metadata": {
        "id": "eLeqLjSmW_P5",
        "outputId": "1fb53ecd-1f9c-43f7-f27f-8e84dd5de65b",
        "colab": {
          "base_uri": "https://localhost:8080/",
          "height": 51
        }
      },
      "source": [
        "# Get the first 2 rows of latest array you created\n",
        "arr[2:]"
      ],
      "execution_count": null,
      "outputs": [
        {
          "output_type": "execute_result",
          "data": {
            "text/plain": [
              "array([[8, 6, 1, 3, 8, 1],\n",
              "       [9, 8, 9, 4, 1, 3]])"
            ]
          },
          "metadata": {
            "tags": []
          },
          "execution_count": 100
        }
      ]
    },
    {
      "cell_type": "code",
      "metadata": {
        "id": "lgXf7jBMW_QB",
        "outputId": "160c13bd-f66d-4c05-9f91-2b68e8eab136",
        "colab": {
          "base_uri": "https://localhost:8080/",
          "height": 51
        }
      },
      "source": [
        "# Get the first 2 values of the first 2 rows of the latest array\n",
        "arr[:2,:2]"
      ],
      "execution_count": null,
      "outputs": [
        {
          "output_type": "execute_result",
          "data": {
            "text/plain": [
              "array([[8, 0],\n",
              "       [8, 2]])"
            ]
          },
          "metadata": {
            "tags": []
          },
          "execution_count": 112
        }
      ]
    },
    {
      "cell_type": "code",
      "metadata": {
        "id": "RQpBDZloW_QM"
      },
      "source": [
        "# Create a random array of numbers between 0 & 10 and an array of ones both of size (3, 5), save them both to variables\n",
        "ra1= np.random.randint(10,size=([3,5]))\n",
        "ra2=np.ones([3,5],dtype=int)\n"
      ],
      "execution_count": null,
      "outputs": []
    },
    {
      "cell_type": "code",
      "metadata": {
        "id": "cN6SExbGW_QV",
        "outputId": "74dc69ff-c298-40c2-f311-71a3ec2b054d",
        "colab": {
          "base_uri": "https://localhost:8080/",
          "height": 68
        }
      },
      "source": [
        "# Add the two arrays together\n",
        "ra1+ra2"
      ],
      "execution_count": null,
      "outputs": [
        {
          "output_type": "execute_result",
          "data": {
            "text/plain": [
              "array([[7, 2, 3, 1, 5],\n",
              "       [1, 8, 1, 1, 2],\n",
              "       [2, 6, 7, 5, 1]])"
            ]
          },
          "metadata": {
            "tags": []
          },
          "execution_count": 129
        }
      ]
    },
    {
      "cell_type": "code",
      "metadata": {
        "id": "aobweaUjW_Qd",
        "outputId": "497e1700-695c-4f81-8277-dbf32de8cfe5",
        "colab": {
          "base_uri": "https://localhost:8080/",
          "height": 102
        }
      },
      "source": [
        "# Create another array of ones of shape (5, 3)\n",
        "ro=np.ones([5,3],dtype=int)\n",
        "ro"
      ],
      "execution_count": null,
      "outputs": [
        {
          "output_type": "execute_result",
          "data": {
            "text/plain": [
              "array([[1, 1, 1],\n",
              "       [1, 1, 1],\n",
              "       [1, 1, 1],\n",
              "       [1, 1, 1],\n",
              "       [1, 1, 1]])"
            ]
          },
          "metadata": {
            "tags": []
          },
          "execution_count": 146
        }
      ]
    },
    {
      "cell_type": "code",
      "metadata": {
        "id": "RUYVesokW_Ql",
        "outputId": "a8782f25-e260-4d44-e0f0-21e3ed3f8d59",
        "colab": {
          "base_uri": "https://localhost:8080/",
          "height": 199
        }
      },
      "source": [
        "# Try add the array of ones and the other most recent array together # You can anticipate an error\n",
        "ra1+ra2+ro"
      ],
      "execution_count": null,
      "outputs": [
        {
          "output_type": "error",
          "ename": "ValueError",
          "evalue": "ignored",
          "traceback": [
            "\u001b[0;31m---------------------------------------------------------------------------\u001b[0m",
            "\u001b[0;31mValueError\u001b[0m                                Traceback (most recent call last)",
            "\u001b[0;32m<ipython-input-139-b3d2d778ff65>\u001b[0m in \u001b[0;36m<module>\u001b[0;34m()\u001b[0m\n\u001b[1;32m      1\u001b[0m \u001b[0;31m# Try add the array of ones and the other most recent array together # You can anticipate an error\u001b[0m\u001b[0;34m\u001b[0m\u001b[0;34m\u001b[0m\u001b[0;34m\u001b[0m\u001b[0m\n\u001b[0;32m----> 2\u001b[0;31m \u001b[0mra1\u001b[0m\u001b[0;34m+\u001b[0m\u001b[0mra2\u001b[0m\u001b[0;34m+\u001b[0m\u001b[0mro\u001b[0m\u001b[0;34m\u001b[0m\u001b[0;34m\u001b[0m\u001b[0m\n\u001b[0m",
            "\u001b[0;31mValueError\u001b[0m: operands could not be broadcast together with shapes (3,5) (5,3) "
          ]
        }
      ]
    },
    {
      "cell_type": "code",
      "metadata": {
        "id": "P4HQWYefW_Qu",
        "outputId": "3bd430eb-0249-4bce-c22c-abb85737588f",
        "colab": {
          "base_uri": "https://localhost:8080/",
          "height": 68
        }
      },
      "source": [
        "# Do the same operation you just did but this time with a transpose on one array\n",
        "rt = ro.T\n",
        "rf=ra1+ra2+rt\n",
        "rf"
      ],
      "execution_count": null,
      "outputs": [
        {
          "output_type": "execute_result",
          "data": {
            "text/plain": [
              "array([[8, 3, 4, 2, 6],\n",
              "       [2, 9, 2, 2, 3],\n",
              "       [3, 7, 8, 6, 2]])"
            ]
          },
          "metadata": {
            "tags": []
          },
          "execution_count": 190
        }
      ]
    },
    {
      "cell_type": "code",
      "metadata": {
        "id": "Zf5TAM55W_Q3",
        "outputId": "bed28725-bf5a-464d-c043-3086e7c1be34",
        "colab": {
          "base_uri": "https://localhost:8080/",
          "height": 68
        }
      },
      "source": [
        "# Take the latest array to the power of 2 using the python way\n",
        "rf**2"
      ],
      "execution_count": null,
      "outputs": [
        {
          "output_type": "execute_result",
          "data": {
            "text/plain": [
              "array([[64,  9, 16,  4, 36],\n",
              "       [ 4, 81,  4,  4,  9],\n",
              "       [ 9, 49, 64, 36,  4]])"
            ]
          },
          "metadata": {
            "tags": []
          },
          "execution_count": 156
        }
      ]
    },
    {
      "cell_type": "code",
      "metadata": {
        "id": "olqNcLJQW_RA",
        "outputId": "718abab9-a5a4-4263-dc16-0578bdb68784",
        "colab": {
          "base_uri": "https://localhost:8080/",
          "height": 68
        }
      },
      "source": [
        "# Do the same thing with numpy way\n",
        "np.square(rf)"
      ],
      "execution_count": null,
      "outputs": [
        {
          "output_type": "execute_result",
          "data": {
            "text/plain": [
              "array([[64,  9, 16,  4, 36],\n",
              "       [ 4, 81,  4,  4,  9],\n",
              "       [ 9, 49, 64, 36,  4]])"
            ]
          },
          "metadata": {
            "tags": []
          },
          "execution_count": 157
        }
      ]
    },
    {
      "cell_type": "code",
      "metadata": {
        "id": "n3d1_YxJW_RI",
        "outputId": "69cd3828-dd0f-4b60-c68e-d65f85005b9a",
        "colab": {
          "base_uri": "https://localhost:8080/",
          "height": 102
        }
      },
      "source": [
        "# Find the mean, min, max, standard deviation, variance of the latest array using np.mean()\n",
        "print('mean:',np.mean(rf))\n",
        "print('min:',np.min(rf))\n",
        "print('max:', np.max(rf))\n",
        "print('std deviation',np.std(rf))\n",
        "print('variation',np.var(rf))"
      ],
      "execution_count": null,
      "outputs": [
        {
          "output_type": "stream",
          "text": [
            "mean: 4.466666666666667\n",
            "min: 2\n",
            "max: 9\n",
            "std deviation 2.4997777679003566\n",
            "variation 6.248888888888888\n"
          ],
          "name": "stdout"
        }
      ]
    },
    {
      "cell_type": "code",
      "metadata": {
        "id": "oTuSRiXNW_RQ"
      },
      "source": [
        "# Create two arrays of random integers between 0 to 10 one of size (3, 3) the other of size (3, 2)\n",
        "ay1=np.random.randint(10, size=(3,3))\n",
        "ay2=np.random.randint(10, size=(3,2))"
      ],
      "execution_count": null,
      "outputs": []
    },
    {
      "cell_type": "code",
      "metadata": {
        "id": "GMwliLUOW_RY",
        "outputId": "02f36340-189f-4ec4-e373-ff18c8d85e15",
        "colab": {
          "base_uri": "https://localhost:8080/",
          "height": 68
        }
      },
      "source": [
        "# Perform a dot product on the two newest arrays you created\n",
        "np.dot(ay1,ay2)"
      ],
      "execution_count": null,
      "outputs": [
        {
          "output_type": "execute_result",
          "data": {
            "text/plain": [
              "array([[14, 17],\n",
              "       [93, 78],\n",
              "       [81, 39]])"
            ]
          },
          "metadata": {
            "tags": []
          },
          "execution_count": 171
        }
      ]
    },
    {
      "cell_type": "code",
      "metadata": {
        "id": "-0OsVxwgW_Rj"
      },
      "source": [
        "# Create two arrays of random integers between 0 to 10 both of size (4, 3)\n",
        "y1=np.random.randint(10, size=(4,3))\n",
        "y2=np.random.randint(10, size=(4,3))"
      ],
      "execution_count": null,
      "outputs": []
    },
    {
      "cell_type": "code",
      "metadata": {
        "id": "X1coa-raW_Rt",
        "outputId": "474df07e-9977-4c85-dd65-1bf9eb7150e2",
        "colab": {
          "base_uri": "https://localhost:8080/",
          "height": 85
        }
      },
      "source": [
        "# Perform a hadamard product on the two newest arrays you created\n",
        "np.multiply(y1,y2)\n"
      ],
      "execution_count": null,
      "outputs": [
        {
          "output_type": "execute_result",
          "data": {
            "text/plain": [
              "array([[32,  4, 36],\n",
              "       [72, 16, 12],\n",
              "       [18, 16,  9],\n",
              "       [ 0,  5,  0]])"
            ]
          },
          "metadata": {
            "tags": []
          },
          "execution_count": 186
        }
      ]
    },
    {
      "cell_type": "code",
      "metadata": {
        "id": "Nw_j8MDMW_R8",
        "outputId": "9b8be298-3699-4746-9f9d-376041cb2dc6",
        "colab": {
          "base_uri": "https://localhost:8080/",
          "height": 233
        }
      },
      "source": [
        "# Perform a dot product on the two newest arrays you created # Error anticipated\n",
        "np.dot(y1,y2)"
      ],
      "execution_count": null,
      "outputs": [
        {
          "output_type": "error",
          "ename": "ValueError",
          "evalue": "ignored",
          "traceback": [
            "\u001b[0;31m---------------------------------------------------------------------------\u001b[0m",
            "\u001b[0;31mValueError\u001b[0m                                Traceback (most recent call last)",
            "\u001b[0;32m<ipython-input-187-827fe9cff098>\u001b[0m in \u001b[0;36m<module>\u001b[0;34m()\u001b[0m\n\u001b[1;32m      1\u001b[0m \u001b[0;31m# Perform a dot product on the two newest arrays you created # Error anticipated\u001b[0m\u001b[0;34m\u001b[0m\u001b[0;34m\u001b[0m\u001b[0;34m\u001b[0m\u001b[0m\n\u001b[0;32m----> 2\u001b[0;31m \u001b[0mnp\u001b[0m\u001b[0;34m.\u001b[0m\u001b[0mdot\u001b[0m\u001b[0;34m(\u001b[0m\u001b[0my1\u001b[0m\u001b[0;34m,\u001b[0m\u001b[0my2\u001b[0m\u001b[0;34m)\u001b[0m\u001b[0;34m\u001b[0m\u001b[0;34m\u001b[0m\u001b[0m\n\u001b[0m",
            "\u001b[0;32m<__array_function__ internals>\u001b[0m in \u001b[0;36mdot\u001b[0;34m(*args, **kwargs)\u001b[0m\n",
            "\u001b[0;31mValueError\u001b[0m: shapes (4,3) and (4,3) not aligned: 3 (dim 1) != 4 (dim 0)"
          ]
        }
      ]
    },
    {
      "cell_type": "code",
      "metadata": {
        "id": "zNlkdTYVW_SF",
        "outputId": "b360b477-ed69-496d-d18a-c769bf442530",
        "colab": {
          "base_uri": "https://localhost:8080/",
          "height": 85
        }
      },
      "source": [
        "# Take the latest two arrays, perform a transpose on one of them and then perform a dot product on t\n",
        "y2=y2.T\n",
        "np.dot(y1,y2)"
      ],
      "execution_count": null,
      "outputs": [
        {
          "output_type": "execute_result",
          "data": {
            "text/plain": [
              "array([[ 72,  84,  36, 103],\n",
              "       [ 80, 100,  40, 115],\n",
              "       [ 86, 142,  43, 124],\n",
              "       [  4,   8,   2,   5]])"
            ]
          },
          "metadata": {
            "tags": []
          },
          "execution_count": 193
        }
      ]
    },
    {
      "cell_type": "code",
      "metadata": {
        "id": "TBH6f8s2W_SP"
      },
      "source": [
        "# Create two arrays of random integers between 0 & 10 of the same shape and save them to variables\n",
        "va1=np.random.randint(10, size=(5,5))\n",
        "va2=np.random.randint(10, size=(5,5))"
      ],
      "execution_count": null,
      "outputs": []
    },
    {
      "cell_type": "code",
      "metadata": {
        "id": "alXD_TWrW_SY",
        "outputId": "f8b18d46-2563-41e4-eb66-0cc117e7139c",
        "colab": {
          "base_uri": "https://localhost:8080/",
          "height": 306
        }
      },
      "source": [
        "# Compare the two arrays with '>', '<=' and '==' \n",
        "print(va1>va2)\n",
        "print()\n",
        "print(va1<=va2)\n",
        "print()\n",
        "print(va1==va2)"
      ],
      "execution_count": null,
      "outputs": [
        {
          "output_type": "stream",
          "text": [
            "[[False False False False  True]\n",
            " [ True  True  True False False]\n",
            " [ True False  True False False]\n",
            " [False  True  True  True False]\n",
            " [False False False  True  True]]\n",
            "\n",
            "[[ True  True  True  True False]\n",
            " [False False False  True  True]\n",
            " [False  True False  True  True]\n",
            " [ True False False False  True]\n",
            " [ True  True  True False False]]\n",
            "\n",
            "[[False  True False False False]\n",
            " [False False False False False]\n",
            " [False False False False False]\n",
            " [ True False False False False]\n",
            " [False  True False False False]]\n"
          ],
          "name": "stdout"
        }
      ]
    },
    {
      "cell_type": "code",
      "metadata": {
        "id": "M5MAOsp3W_Sj",
        "outputId": "644a9c4d-6bdd-4e85-cdce-917ff082195f",
        "colab": {
          "base_uri": "https://localhost:8080/",
          "height": 102
        }
      },
      "source": [
        "# Sort one of the arrays you just created in ascending order\n",
        "np.sort(va1)"
      ],
      "execution_count": null,
      "outputs": [
        {
          "output_type": "execute_result",
          "data": {
            "text/plain": [
              "array([[0, 0, 3, 7, 7],\n",
              "       [2, 3, 3, 5, 7],\n",
              "       [1, 1, 2, 8, 8],\n",
              "       [1, 2, 3, 5, 8],\n",
              "       [0, 0, 3, 3, 4]])"
            ]
          },
          "metadata": {
            "tags": []
          },
          "execution_count": 204
        }
      ]
    },
    {
      "cell_type": "code",
      "metadata": {
        "id": "H1A_bER7W_TF",
        "outputId": "99881046-da84-481d-8c80-4a44f15f6118",
        "colab": {
          "base_uri": "https://localhost:8080/",
          "height": 102
        }
      },
      "source": [
        "# Sort the indexes of one of the arrays you just created\n",
        "np.argsort(va2)"
      ],
      "execution_count": 210,
      "outputs": [
        {
          "output_type": "execute_result",
          "data": {
            "text/plain": [
              "array([[4, 3, 2, 0, 1],\n",
              "       [0, 1, 2, 4, 3],\n",
              "       [2, 0, 1, 3, 4],\n",
              "       [2, 3, 0, 1, 4],\n",
              "       [3, 4, 0, 2, 1]])"
            ]
          },
          "metadata": {
            "tags": []
          },
          "execution_count": 210
        }
      ]
    },
    {
      "cell_type": "code",
      "metadata": {
        "id": "TijIsbYzW_Tg",
        "outputId": "93ce179a-b28c-4502-90cc-92348e814999",
        "colab": {
          "base_uri": "https://localhost:8080/",
          "height": 34
        }
      },
      "source": [
        "# Find the index with the maximum value in one of the arrays you've created\n",
        "np.where(va1==np.max(va1))"
      ],
      "execution_count": 211,
      "outputs": [
        {
          "output_type": "execute_result",
          "data": {
            "text/plain": [
              "(array([2, 2, 3]), array([0, 2, 3]))"
            ]
          },
          "metadata": {
            "tags": []
          },
          "execution_count": 211
        }
      ]
    },
    {
      "cell_type": "code",
      "metadata": {
        "id": "-7PgZuBsW_Tr",
        "outputId": "168f6368-7a4f-4fc5-b4fa-9139194d7811",
        "colab": {
          "base_uri": "https://localhost:8080/",
          "height": 119
        }
      },
      "source": [
        "# Create an array with 10 evenly spaced numbers between 1 and 100\n",
        "np.arange(100)"
      ],
      "execution_count": 213,
      "outputs": [
        {
          "output_type": "execute_result",
          "data": {
            "text/plain": [
              "array([ 0,  1,  2,  3,  4,  5,  6,  7,  8,  9, 10, 11, 12, 13, 14, 15, 16,\n",
              "       17, 18, 19, 20, 21, 22, 23, 24, 25, 26, 27, 28, 29, 30, 31, 32, 33,\n",
              "       34, 35, 36, 37, 38, 39, 40, 41, 42, 43, 44, 45, 46, 47, 48, 49, 50,\n",
              "       51, 52, 53, 54, 55, 56, 57, 58, 59, 60, 61, 62, 63, 64, 65, 66, 67,\n",
              "       68, 69, 70, 71, 72, 73, 74, 75, 76, 77, 78, 79, 80, 81, 82, 83, 84,\n",
              "       85, 86, 87, 88, 89, 90, 91, 92, 93, 94, 95, 96, 97, 98, 99])"
            ]
          },
          "metadata": {
            "tags": []
          },
          "execution_count": 213
        }
      ]
    },
    {
      "cell_type": "code",
      "metadata": {
        "id": "0Zgzd24SW_T3",
        "outputId": "0d6d0f5d-0299-4773-e8f8-6b2a6eb62141",
        "colab": {
          "base_uri": "https://localhost:8080/",
          "height": 34
        }
      },
      "source": [
        "# Find the indexes with the maximum values down the verticial axis of one of the arrays you created\n",
        "np.argmax(va1,axis=1)"
      ],
      "execution_count": 214,
      "outputs": [
        {
          "output_type": "execute_result",
          "data": {
            "text/plain": [
              "array([1, 2, 0, 3, 3])"
            ]
          },
          "metadata": {
            "tags": []
          },
          "execution_count": 214
        }
      ]
    },
    {
      "cell_type": "code",
      "metadata": {
        "id": "d2BPJq8kW_UB",
        "outputId": "a82ec4ad-5fce-4ac5-9198-148a95c00ca1",
        "colab": {
          "base_uri": "https://localhost:8080/",
          "height": 34
        }
      },
      "source": [
        "# Find the indexes with the minimum values across the horizontal axis of one of the arrays you created\n",
        "np.argmin(va2,axis=0)"
      ],
      "execution_count": 216,
      "outputs": [
        {
          "output_type": "execute_result",
          "data": {
            "text/plain": [
              "array([1, 1, 3, 3, 0])"
            ]
          },
          "metadata": {
            "tags": []
          },
          "execution_count": 216
        }
      ]
    }
  ]
}